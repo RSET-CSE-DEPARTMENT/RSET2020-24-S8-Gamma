{
  "nbformat": 4,
  "nbformat_minor": 0,
  "metadata": {
    "colab": {
      "provenance": [],
      "collapsed_sections": [
        "h9V-YmQPqY2Z",
        "IWcSShvVq3A-",
        "4O8vCludrK9L",
        "BMht4a6sr83R"
      ],
      "gpuType": "T4"
    },
    "kernelspec": {
      "name": "python3",
      "display_name": "Python 3"
    },
    "language_info": {
      "name": "python"
    },
    "accelerator": "GPU"
  },
  "cells": [
    {
      "cell_type": "markdown",
      "source": [
        "#Import Libraries"
      ],
      "metadata": {
        "id": "h9V-YmQPqY2Z"
      }
    },
    {
      "cell_type": "code",
      "execution_count": 2,
      "metadata": {
        "colab": {
          "base_uri": "https://localhost:8080/"
        },
        "id": "VTbOm2z3G9nM",
        "outputId": "565cc7f3-165d-4a74-dd6a-5c805090c804"
      },
      "outputs": [
        {
          "output_type": "stream",
          "name": "stderr",
          "text": [
            "[nltk_data] Downloading package punkt to /root/nltk_data...\n",
            "[nltk_data]   Unzipping tokenizers/punkt.zip.\n",
            "[nltk_data] Downloading package wordnet to /root/nltk_data...\n"
          ]
        },
        {
          "output_type": "execute_result",
          "data": {
            "text/plain": [
              "True"
            ]
          },
          "metadata": {},
          "execution_count": 2
        }
      ],
      "source": [
        "import random\n",
        "import json\n",
        "import pickle\n",
        "import numpy as np\n",
        "import matplotlib.pyplot as plt\n",
        "import tensorflow as tf\n",
        "from textblob import TextBlob\n",
        "import nltk\n",
        "from nltk.stem import WordNetLemmatizer\n",
        "from nltk.tokenize import word_tokenize\n",
        "nltk.download('punkt')\n",
        "nltk.download('wordnet')"
      ]
    },
    {
      "cell_type": "markdown",
      "source": [
        "#Methods"
      ],
      "metadata": {
        "id": "IWcSShvVq3A-"
      }
    },
    {
      "cell_type": "code",
      "source": [
        "def clean_up_sentence(sentence):\n",
        "    lemmatizer = WordNetLemmatizer()\n",
        "    tokens = word_tokenize(sentence)\n",
        "    tokens = [lemmatizer.lemmatize(word.lower()) for word in tokens]\n",
        "    return tokens\n",
        "\n",
        "def detect_emotion(text):\n",
        "    blob = TextBlob(text)\n",
        "    sentiment = blob.sentiment.polarity\n",
        "\n",
        "    if sentiment > 0:\n",
        "        return \"Happy\"\n",
        "    elif sentiment < 0:\n",
        "        return \"Sad\"\n",
        "    else:\n",
        "        return \"Neutral\"\n",
        "\n",
        "def bow(sentence, words, show_details=True):\n",
        "    sentence_words = clean_up_sentence(sentence)\n",
        "    bag = [0]*len(words)\n",
        "    for s in sentence_words:\n",
        "        for i,w in enumerate(words):\n",
        "            if w == s:\n",
        "                bag[i] = 1\n",
        "                if show_details:\n",
        "                    print (\"found in bag: %s\" % w)\n",
        "    return(np.array(bag))\n",
        "\n",
        "def classify(sentence):\n",
        "    ERROR_THRESHOLD = 0.15\n",
        "    words = pickle.load(open('words.pkl','rb'))\n",
        "    classes = pickle.load(open('classes.pkl','rb'))\n",
        "    model = tf.keras.models.load_model('chatbot_model.h5')\n",
        "    p = bow(sentence, words,show_details=False)\n",
        "    p = np.array([p])\n",
        "    p = np.expand_dims(p,axis=1)\n",
        "    res = model.predict(p)[0]\n",
        "    results = [[i,r] for i,r in enumerate(res) if r>ERROR_THRESHOLD]\n",
        "    results.sort(key=lambda x: x[1], reverse=True)\n",
        "    return_list = []\n",
        "    for r in results:\n",
        "        return_list.append({\"intent\": classes[r[0]], \"probability\": str(r[1])})\n",
        "    return return_list\n",
        "\n",
        "def get_response(ints):\n",
        "    tag = ints[0]['intent']\n",
        "    intents = json.loads(open('intents.json').read())\n",
        "    for intent in intents['intents']:\n",
        "        if intent['tag'] == tag:\n",
        "            return random.choice(intent['responses'])\n"
      ],
      "metadata": {
        "id": "GpaEfm_jq1vr"
      },
      "execution_count": 40,
      "outputs": []
    },
    {
      "cell_type": "markdown",
      "source": [
        "#Prepare Data"
      ],
      "metadata": {
        "id": "4O8vCludrK9L"
      }
    },
    {
      "cell_type": "code",
      "source": [
        "lemmatizer = WordNetLemmatizer()\n",
        "intents = json.loads(open('intents.json').read())\n",
        "words = []\n",
        "classes = []\n",
        "documents = []\n",
        "ignoreLetters = ['?', '!', '.', ',']\n",
        "tf.keras.utils.set_random_seed(812)"
      ],
      "metadata": {
        "id": "map2toHMHnn2"
      },
      "execution_count": 4,
      "outputs": []
    },
    {
      "cell_type": "code",
      "source": [
        "for intent in intents['intents']:\n",
        "    for pattern in intent['patterns']:\n",
        "        wordList = nltk.word_tokenize(pattern)\n",
        "        words.extend(wordList)\n",
        "        documents.append((wordList, intent['tag']))\n",
        "        if intent['tag'] not in classes:\n",
        "            classes.append(intent['tag'])\n",
        "\n",
        "words = [lemmatizer.lemmatize(word) for word in words if word not in ignoreLetters]\n",
        "words = sorted(set(words))\n",
        "classes = sorted(set(classes))"
      ],
      "metadata": {
        "id": "Mu_SXEtHHnrA"
      },
      "execution_count": 5,
      "outputs": []
    },
    {
      "cell_type": "code",
      "source": [
        "pickle.dump(words, open('words.pkl', 'wb'))\n",
        "pickle.dump(classes, open('classes.pkl', 'wb'))"
      ],
      "metadata": {
        "id": "5gXPc-AMYFcO"
      },
      "execution_count": 6,
      "outputs": []
    },
    {
      "cell_type": "code",
      "source": [
        "training = []\n",
        "outputEmpty = [0] * len(classes)\n",
        "\n",
        "for document in documents:\n",
        "    bag = []\n",
        "    wordPatterns = document[0]\n",
        "    wordPatterns = [lemmatizer.lemmatize(word.lower()) for word in wordPatterns]\n",
        "    for word in words:\n",
        "        bag.append(1) if word in wordPatterns else bag.append(0)\n",
        "    outputRow = list(outputEmpty)\n",
        "    outputRow[classes.index(document[1])] = 1\n",
        "    training.append(bag + outputRow)\n",
        "\n",
        "random.shuffle(training)\n",
        "training = np.array(training)\n",
        "\n",
        "trainX = training[:, :len(words)]\n",
        "trainY = training[:, len(words):]"
      ],
      "metadata": {
        "id": "ufzMbv_uuOc9"
      },
      "execution_count": 28,
      "outputs": []
    },
    {
      "cell_type": "code",
      "source": [
        "trainX = np.expand_dims(trainX,axis=1)"
      ],
      "metadata": {
        "id": "NLDnrcJaPF3c"
      },
      "execution_count": 29,
      "outputs": []
    },
    {
      "cell_type": "markdown",
      "source": [
        "#Model"
      ],
      "metadata": {
        "id": "P5sbaB4RrUtR"
      }
    },
    {
      "cell_type": "code",
      "source": [
        "model = tf.keras.Sequential()\n",
        "model.add(tf.keras.layers.SimpleRNN(30, return_sequences=True,input_shape=(trainX.shape[1],2178)))\n",
        "model.add(tf.keras.layers.LSTM(25,return_sequences=True))\n",
        "model.add(tf.keras.layers.SimpleRNN(20))\n",
        "model.add(tf.keras.layers.Dense(400))\n",
        "model.add(tf.keras.layers.ELU())\n",
        "model.add(tf.keras.layers.Dense(200))\n",
        "model.add(tf.keras.layers.Dropout(0.2))\n",
        "model.add(tf.keras.layers.Dense(len(trainY[0]), activation='softmax'))\n",
        "sgd = tf.keras.optimizers.Adam(learning_rate=0.0001)\n",
        "model.compile(loss='categorical_crossentropy', optimizer=sgd, metrics=['accuracy'])\n"
      ],
      "metadata": {
        "id": "btFl1OvarTfa"
      },
      "execution_count": 37,
      "outputs": []
    },
    {
      "cell_type": "markdown",
      "source": [
        "#Training"
      ],
      "metadata": {
        "id": "iBYopj7JrXXF"
      }
    },
    {
      "cell_type": "code",
      "source": [
        "\n",
        "history= model.fit(trainX, trainY, epochs=100, batch_size=3, verbose=1)\n",
        "model.save('chatbot_model.h5')\n",
        "print('Done')"
      ],
      "metadata": {
        "id": "Ux-J6_hLHnue",
        "colab": {
          "base_uri": "https://localhost:8080/"
        },
        "outputId": "0ba2d439-72d1-4c34-bf59-06a6a0edf32a"
      },
      "execution_count": 38,
      "outputs": [
        {
          "output_type": "stream",
          "name": "stdout",
          "text": [
            "Epoch 1/100\n",
            "1112/1112 [==============================] - 14s 9ms/step - loss: 5.6622 - accuracy: 0.0471\n",
            "Epoch 2/100\n",
            "1112/1112 [==============================] - 9s 8ms/step - loss: 5.2223 - accuracy: 0.0480\n",
            "Epoch 3/100\n",
            "1112/1112 [==============================] - 9s 8ms/step - loss: 5.0682 - accuracy: 0.0606\n",
            "Epoch 4/100\n",
            "1112/1112 [==============================] - 9s 8ms/step - loss: 4.9088 - accuracy: 0.0777\n",
            "Epoch 5/100\n",
            "1112/1112 [==============================] - 9s 9ms/step - loss: 4.7374 - accuracy: 0.0858\n",
            "Epoch 6/100\n",
            "1112/1112 [==============================] - 9s 8ms/step - loss: 4.6018 - accuracy: 0.0885\n",
            "Epoch 7/100\n",
            "1112/1112 [==============================] - 9s 8ms/step - loss: 4.4797 - accuracy: 0.0909\n",
            "Epoch 8/100\n",
            "1112/1112 [==============================] - 9s 8ms/step - loss: 4.3649 - accuracy: 0.1002\n",
            "Epoch 9/100\n",
            "1112/1112 [==============================] - 9s 8ms/step - loss: 4.2466 - accuracy: 0.1143\n",
            "Epoch 10/100\n",
            "1112/1112 [==============================] - 9s 8ms/step - loss: 4.1280 - accuracy: 0.1251\n",
            "Epoch 11/100\n",
            "1112/1112 [==============================] - 9s 8ms/step - loss: 4.0061 - accuracy: 0.1386\n",
            "Epoch 12/100\n",
            "1112/1112 [==============================] - 9s 8ms/step - loss: 3.8942 - accuracy: 0.1494\n",
            "Epoch 13/100\n",
            "1112/1112 [==============================] - 9s 8ms/step - loss: 3.7792 - accuracy: 0.1671\n",
            "Epoch 14/100\n",
            "1112/1112 [==============================] - 9s 9ms/step - loss: 3.6851 - accuracy: 0.1671\n",
            "Epoch 15/100\n",
            "1112/1112 [==============================] - 9s 8ms/step - loss: 3.5917 - accuracy: 0.1809\n",
            "Epoch 16/100\n",
            "1112/1112 [==============================] - 8s 7ms/step - loss: 3.5108 - accuracy: 0.1914\n",
            "Epoch 17/100\n",
            "1112/1112 [==============================] - 9s 9ms/step - loss: 3.4295 - accuracy: 0.1965\n",
            "Epoch 18/100\n",
            "1112/1112 [==============================] - 10s 9ms/step - loss: 3.3493 - accuracy: 0.2076\n",
            "Epoch 19/100\n",
            "1112/1112 [==============================] - 10s 9ms/step - loss: 3.2696 - accuracy: 0.2190\n",
            "Epoch 20/100\n",
            "1112/1112 [==============================] - 9s 8ms/step - loss: 3.1873 - accuracy: 0.2214\n",
            "Epoch 21/100\n",
            "1112/1112 [==============================] - 9s 9ms/step - loss: 3.1115 - accuracy: 0.2391\n",
            "Epoch 22/100\n",
            "1112/1112 [==============================] - 10s 9ms/step - loss: 3.0266 - accuracy: 0.2534\n",
            "Epoch 23/100\n",
            "1112/1112 [==============================] - 10s 9ms/step - loss: 2.9504 - accuracy: 0.2684\n",
            "Epoch 24/100\n",
            "1112/1112 [==============================] - 9s 8ms/step - loss: 2.8518 - accuracy: 0.2849\n",
            "Epoch 25/100\n",
            "1112/1112 [==============================] - 9s 8ms/step - loss: 2.7828 - accuracy: 0.2972\n",
            "Epoch 26/100\n",
            "1112/1112 [==============================] - 9s 8ms/step - loss: 2.7028 - accuracy: 0.3221\n",
            "Epoch 27/100\n",
            "1112/1112 [==============================] - 9s 8ms/step - loss: 2.6298 - accuracy: 0.3350\n",
            "Epoch 28/100\n",
            "1112/1112 [==============================] - 8s 8ms/step - loss: 2.5536 - accuracy: 0.3530\n",
            "Epoch 29/100\n",
            "1112/1112 [==============================] - 9s 8ms/step - loss: 2.4731 - accuracy: 0.3731\n",
            "Epoch 30/100\n",
            "1112/1112 [==============================] - 10s 9ms/step - loss: 2.3938 - accuracy: 0.3902\n",
            "Epoch 31/100\n",
            "1112/1112 [==============================] - 10s 9ms/step - loss: 2.3101 - accuracy: 0.4034\n",
            "Epoch 32/100\n",
            "1112/1112 [==============================] - 9s 8ms/step - loss: 2.2467 - accuracy: 0.4178\n",
            "Epoch 33/100\n",
            "1112/1112 [==============================] - 10s 9ms/step - loss: 2.1714 - accuracy: 0.4394\n",
            "Epoch 34/100\n",
            "1112/1112 [==============================] - 9s 8ms/step - loss: 2.1024 - accuracy: 0.4451\n",
            "Epoch 35/100\n",
            "1112/1112 [==============================] - 10s 9ms/step - loss: 2.0375 - accuracy: 0.4730\n",
            "Epoch 36/100\n",
            "1112/1112 [==============================] - 9s 8ms/step - loss: 1.9639 - accuracy: 0.4913\n",
            "Epoch 37/100\n",
            "1112/1112 [==============================] - 10s 9ms/step - loss: 1.9051 - accuracy: 0.5045\n",
            "Epoch 38/100\n",
            "1112/1112 [==============================] - 10s 9ms/step - loss: 1.8530 - accuracy: 0.5216\n",
            "Epoch 39/100\n",
            "1112/1112 [==============================] - 10s 9ms/step - loss: 1.7926 - accuracy: 0.5270\n",
            "Epoch 40/100\n",
            "1112/1112 [==============================] - 9s 8ms/step - loss: 1.7221 - accuracy: 0.5549\n",
            "Epoch 41/100\n",
            "1112/1112 [==============================] - 9s 8ms/step - loss: 1.6801 - accuracy: 0.5633\n",
            "Epoch 42/100\n",
            "1112/1112 [==============================] - 9s 8ms/step - loss: 1.6188 - accuracy: 0.5825\n",
            "Epoch 43/100\n",
            "1112/1112 [==============================] - 9s 8ms/step - loss: 1.5802 - accuracy: 0.5849\n",
            "Epoch 44/100\n",
            "1112/1112 [==============================] - 9s 8ms/step - loss: 1.5249 - accuracy: 0.6062\n",
            "Epoch 45/100\n",
            "1112/1112 [==============================] - 9s 8ms/step - loss: 1.4857 - accuracy: 0.6110\n",
            "Epoch 46/100\n",
            "1112/1112 [==============================] - 9s 8ms/step - loss: 1.4378 - accuracy: 0.6257\n",
            "Epoch 47/100\n",
            "1112/1112 [==============================] - 9s 8ms/step - loss: 1.3931 - accuracy: 0.6347\n",
            "Epoch 48/100\n",
            "1112/1112 [==============================] - 8s 7ms/step - loss: 1.3434 - accuracy: 0.6545\n",
            "Epoch 49/100\n",
            "1112/1112 [==============================] - 9s 8ms/step - loss: 1.3286 - accuracy: 0.6515\n",
            "Epoch 50/100\n",
            "1112/1112 [==============================] - 9s 8ms/step - loss: 1.2788 - accuracy: 0.6587\n",
            "Epoch 51/100\n",
            "1112/1112 [==============================] - 9s 8ms/step - loss: 1.2305 - accuracy: 0.6785\n",
            "Epoch 52/100\n",
            "1112/1112 [==============================] - 8s 8ms/step - loss: 1.1981 - accuracy: 0.6827\n",
            "Epoch 53/100\n",
            "1112/1112 [==============================] - 10s 9ms/step - loss: 1.1594 - accuracy: 0.7022\n",
            "Epoch 54/100\n",
            "1112/1112 [==============================] - 9s 8ms/step - loss: 1.1356 - accuracy: 0.6989\n",
            "Epoch 55/100\n",
            "1112/1112 [==============================] - 9s 8ms/step - loss: 1.0976 - accuracy: 0.7112\n",
            "Epoch 56/100\n",
            "1112/1112 [==============================] - 9s 8ms/step - loss: 1.0522 - accuracy: 0.7265\n",
            "Epoch 57/100\n",
            "1112/1112 [==============================] - 10s 9ms/step - loss: 1.0232 - accuracy: 0.7331\n",
            "Epoch 58/100\n",
            "1112/1112 [==============================] - 9s 8ms/step - loss: 0.9976 - accuracy: 0.7421\n",
            "Epoch 59/100\n",
            "1112/1112 [==============================] - 9s 8ms/step - loss: 0.9759 - accuracy: 0.7367\n",
            "Epoch 60/100\n",
            "1112/1112 [==============================] - 9s 8ms/step - loss: 0.9398 - accuracy: 0.7663\n",
            "Epoch 61/100\n",
            "1112/1112 [==============================] - 9s 8ms/step - loss: 0.9267 - accuracy: 0.7561\n",
            "Epoch 62/100\n",
            "1112/1112 [==============================] - 9s 8ms/step - loss: 0.8932 - accuracy: 0.7711\n",
            "Epoch 63/100\n",
            "1112/1112 [==============================] - 10s 9ms/step - loss: 0.8791 - accuracy: 0.7633\n",
            "Epoch 64/100\n",
            "1112/1112 [==============================] - 9s 8ms/step - loss: 0.8375 - accuracy: 0.7849\n",
            "Epoch 65/100\n",
            "1112/1112 [==============================] - 9s 8ms/step - loss: 0.8299 - accuracy: 0.7765\n",
            "Epoch 66/100\n",
            "1112/1112 [==============================] - 9s 8ms/step - loss: 0.8146 - accuracy: 0.7831\n",
            "Epoch 67/100\n",
            "1112/1112 [==============================] - 9s 8ms/step - loss: 0.7769 - accuracy: 0.7948\n",
            "Epoch 68/100\n",
            "1112/1112 [==============================] - 8s 8ms/step - loss: 0.7587 - accuracy: 0.8005\n",
            "Epoch 69/100\n",
            "1112/1112 [==============================] - 9s 8ms/step - loss: 0.7347 - accuracy: 0.7993\n",
            "Epoch 70/100\n",
            "1112/1112 [==============================] - 9s 9ms/step - loss: 0.7147 - accuracy: 0.8122\n",
            "Epoch 71/100\n",
            "1112/1112 [==============================] - 9s 8ms/step - loss: 0.6975 - accuracy: 0.8146\n",
            "Epoch 72/100\n",
            "1112/1112 [==============================] - 9s 8ms/step - loss: 0.6886 - accuracy: 0.8119\n",
            "Epoch 73/100\n",
            "1112/1112 [==============================] - 9s 9ms/step - loss: 0.6621 - accuracy: 0.8266\n",
            "Epoch 74/100\n",
            "1112/1112 [==============================] - 9s 8ms/step - loss: 0.6469 - accuracy: 0.8290\n",
            "Epoch 75/100\n",
            "1112/1112 [==============================] - 9s 8ms/step - loss: 0.6354 - accuracy: 0.8251\n",
            "Epoch 76/100\n",
            "1112/1112 [==============================] - 9s 8ms/step - loss: 0.6135 - accuracy: 0.8356\n",
            "Epoch 77/100\n",
            "1112/1112 [==============================] - 9s 8ms/step - loss: 0.6082 - accuracy: 0.8344\n",
            "Epoch 78/100\n",
            "1112/1112 [==============================] - 9s 8ms/step - loss: 0.5834 - accuracy: 0.8416\n",
            "Epoch 79/100\n",
            "1112/1112 [==============================] - 9s 8ms/step - loss: 0.5751 - accuracy: 0.8392\n",
            "Epoch 80/100\n",
            "1112/1112 [==============================] - 9s 8ms/step - loss: 0.5541 - accuracy: 0.8551\n",
            "Epoch 81/100\n",
            "1112/1112 [==============================] - 9s 8ms/step - loss: 0.5439 - accuracy: 0.8458\n",
            "Epoch 82/100\n",
            "1112/1112 [==============================] - 9s 8ms/step - loss: 0.5330 - accuracy: 0.8554\n",
            "Epoch 83/100\n",
            "1112/1112 [==============================] - 9s 8ms/step - loss: 0.5174 - accuracy: 0.8611\n",
            "Epoch 84/100\n",
            "1112/1112 [==============================] - 9s 8ms/step - loss: 0.5054 - accuracy: 0.8611\n",
            "Epoch 85/100\n",
            "1112/1112 [==============================] - 9s 8ms/step - loss: 0.4904 - accuracy: 0.8674\n",
            "Epoch 86/100\n",
            "1112/1112 [==============================] - 9s 8ms/step - loss: 0.4828 - accuracy: 0.8665\n",
            "Epoch 87/100\n",
            "1112/1112 [==============================] - 9s 8ms/step - loss: 0.4820 - accuracy: 0.8647\n",
            "Epoch 88/100\n",
            "1112/1112 [==============================] - 9s 8ms/step - loss: 0.4626 - accuracy: 0.8767\n",
            "Epoch 89/100\n",
            "1112/1112 [==============================] - 9s 9ms/step - loss: 0.4524 - accuracy: 0.8788\n",
            "Epoch 90/100\n",
            "1112/1112 [==============================] - 10s 9ms/step - loss: 0.4470 - accuracy: 0.8737\n",
            "Epoch 91/100\n",
            "1112/1112 [==============================] - 9s 8ms/step - loss: 0.4310 - accuracy: 0.8830\n",
            "Epoch 92/100\n",
            "1112/1112 [==============================] - 9s 8ms/step - loss: 0.4201 - accuracy: 0.8887\n",
            "Epoch 93/100\n",
            "1112/1112 [==============================] - 10s 9ms/step - loss: 0.4074 - accuracy: 0.8833\n",
            "Epoch 94/100\n",
            "1112/1112 [==============================] - 9s 8ms/step - loss: 0.4020 - accuracy: 0.8932\n",
            "Epoch 95/100\n",
            "1112/1112 [==============================] - 9s 8ms/step - loss: 0.3914 - accuracy: 0.8881\n",
            "Epoch 96/100\n",
            "1112/1112 [==============================] - 9s 8ms/step - loss: 0.3870 - accuracy: 0.8884\n",
            "Epoch 97/100\n",
            "1112/1112 [==============================] - 10s 9ms/step - loss: 0.3690 - accuracy: 0.8926\n",
            "Epoch 98/100\n",
            "1112/1112 [==============================] - 10s 9ms/step - loss: 0.3747 - accuracy: 0.8944\n",
            "Epoch 99/100\n",
            "1112/1112 [==============================] - 10s 9ms/step - loss: 0.3695 - accuracy: 0.8923\n",
            "Epoch 100/100\n",
            "1112/1112 [==============================] - 9s 8ms/step - loss: 0.3534 - accuracy: 0.8980\n",
            "Done\n"
          ]
        },
        {
          "output_type": "stream",
          "name": "stderr",
          "text": [
            "/usr/local/lib/python3.10/dist-packages/keras/src/engine/training.py:3103: UserWarning: You are saving your model as an HDF5 file via `model.save()`. This file format is considered legacy. We recommend using instead the native Keras format, e.g. `model.save('my_model.keras')`.\n",
            "  saving_api.save_model(\n"
          ]
        }
      ]
    },
    {
      "cell_type": "markdown",
      "source": [
        "#Test"
      ],
      "metadata": {
        "id": "BMht4a6sr83R"
      }
    },
    {
      "cell_type": "code",
      "source": [
        "# Load preprocessed data\n",
        "words = pickle.load(open('words.pkl', 'rb'))\n",
        "classes = pickle.load(open('classes.pkl', 'rb'))\n",
        "\n",
        "while True:\n",
        "    inp = input(\"You: \")\n",
        "    if inp.lower() == \"quit\":\n",
        "        break\n",
        "    emotion = detect_emotion(inp)\n",
        "    results = classify(inp+' '+emotion)\n",
        "    if results:\n",
        "        response = get_response(results)\n",
        "        print(\"Bot:\", response)\n",
        "    else:\n",
        "        print(\"Bot: I'm sorry, I didn't understand that.\")"
      ],
      "metadata": {
        "id": "DcanSJH4Hnyo"
      },
      "execution_count": null,
      "outputs": []
    }
  ]
}