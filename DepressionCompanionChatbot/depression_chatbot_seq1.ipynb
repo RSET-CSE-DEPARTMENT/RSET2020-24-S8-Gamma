{
  "cells": [
    {
      "cell_type": "markdown",
      "metadata": {
        "id": "h9V-YmQPqY2Z"
      },
      "source": [
        "#Import Libraries"
      ]
    },
    {
      "cell_type": "code",
      "execution_count": null,
      "metadata": {
        "colab": {
          "base_uri": "https://localhost:8080/"
        },
        "id": "VTbOm2z3G9nM",
        "outputId": "61aa89ba-cd90-4da7-9860-012f19d1d890"
      },
      "outputs": [
        {
          "name": "stderr",
          "output_type": "stream",
          "text": [
            "[nltk_data] Downloading package punkt to /root/nltk_data...\n",
            "[nltk_data]   Unzipping tokenizers/punkt.zip.\n",
            "[nltk_data] Downloading package wordnet to /root/nltk_data...\n"
          ]
        },
        {
          "data": {
            "text/plain": [
              "True"
            ]
          },
          "execution_count": 1,
          "metadata": {},
          "output_type": "execute_result"
        }
      ],
      "source": [
        "import random\n",
        "import json\n",
        "import pickle\n",
        "import numpy as np\n",
        "import matplotlib.pyplot as plt\n",
        "import tensorflow as tf\n",
        "from textblob import TextBlob\n",
        "import nltk\n",
        "from nltk.stem import WordNetLemmatizer\n",
        "from nltk.tokenize import word_tokenize\n",
        "nltk.download('punkt')\n",
        "nltk.download('wordnet')"
      ]
    },
    {
      "cell_type": "markdown",
      "metadata": {
        "id": "IWcSShvVq3A-"
      },
      "source": [
        "#Methods"
      ]
    },
    {
      "cell_type": "code",
      "execution_count": null,
      "metadata": {
        "id": "GpaEfm_jq1vr"
      },
      "outputs": [],
      "source": [
        "def clean_up_sentence(sentence):\n",
        "    lemmatizer = WordNetLemmatizer()\n",
        "    tokens = word_tokenize(sentence)\n",
        "    tokens = [lemmatizer.lemmatize(word.lower()) for word in tokens]\n",
        "    return tokens\n",
        "\n",
        "def detect_emotion(text):\n",
        "    blob = TextBlob(text)\n",
        "    sentiment = blob.sentiment.polarity\n",
        "\n",
        "    if sentiment > 0:\n",
        "        return \"Happy\"\n",
        "    elif sentiment < 0:\n",
        "        return \"Sad\"\n",
        "    else:\n",
        "        return \"Neutral\"\n",
        "\n",
        "def bow(sentence, words, show_details=True):\n",
        "    sentence_words = clean_up_sentence(sentence)\n",
        "    bag = [0]*len(words)\n",
        "    for s in sentence_words:\n",
        "        for i,w in enumerate(words):\n",
        "            if w == s:\n",
        "                bag[i] = 1\n",
        "                if show_details:\n",
        "                    print (\"found in bag: %s\" % w)\n",
        "    return(np.array(bag))\n",
        "\n",
        "def classify(sentence):\n",
        "    ERROR_THRESHOLD = 0.15\n",
        "    words = pickle.load(open('words.pkl','rb'))\n",
        "    classes = pickle.load(open('classes.pkl','rb'))\n",
        "    model = tf.keras.models.load_model('chatbot_model.h5')\n",
        "    p = bow(sentence, words,show_details=False)\n",
        "    res = model.predict(np.array([p]))[0]\n",
        "    results = [[i,r] for i,r in enumerate(res) if r>ERROR_THRESHOLD]\n",
        "    results.sort(key=lambda x: x[1], reverse=True)\n",
        "    return_list = []\n",
        "    for r in results:\n",
        "        return_list.append({\"intent\": classes[r[0]], \"probability\": str(r[1])})\n",
        "    return return_list\n",
        "\n",
        "def get_response(ints):\n",
        "    tag = ints[0]['intent']\n",
        "    intents = json.loads(open('intents.json').read())\n",
        "    for intent in intents['intents']:\n",
        "        if intent['tag'] == tag:\n",
        "            return random.choice(intent['responses'])\n"
      ]
    },
    {
      "cell_type": "markdown",
      "metadata": {
        "id": "4O8vCludrK9L"
      },
      "source": [
        "#Prepare Data"
      ]
    },
    {
      "cell_type": "code",
      "execution_count": null,
      "metadata": {
        "id": "map2toHMHnn2"
      },
      "outputs": [],
      "source": [
        "lemmatizer = WordNetLemmatizer()\n",
        "intents = json.loads(open('intents.json').read())\n",
        "words = []\n",
        "classes = []\n",
        "documents = []\n",
        "ignoreLetters = ['?', '!', '.', ',']\n",
        "tf.keras.utils.set_random_seed(812)"
      ]
    },
    {
      "cell_type": "code",
      "execution_count": null,
      "metadata": {
        "id": "Mu_SXEtHHnrA"
      },
      "outputs": [],
      "source": [
        "for intent in intents['intents']:\n",
        "    for pattern in intent['patterns']:\n",
        "        wordList = nltk.word_tokenize(pattern)\n",
        "        words.extend(wordList)\n",
        "        documents.append((wordList, intent['tag']))\n",
        "        if intent['tag'] not in classes:\n",
        "            classes.append(intent['tag'])\n",
        "\n",
        "words = [lemmatizer.lemmatize(word) for word in words if word not in ignoreLetters]\n",
        "words = sorted(set(words))\n",
        "classes = sorted(set(classes))"
      ]
    },
    {
      "cell_type": "code",
      "execution_count": null,
      "metadata": {
        "id": "5gXPc-AMYFcO"
      },
      "outputs": [],
      "source": [
        "pickle.dump(words, open('words.pkl', 'wb'))\n",
        "pickle.dump(classes, open('classes.pkl', 'wb'))"
      ]
    },
    {
      "cell_type": "code",
      "execution_count": null,
      "metadata": {
        "id": "ufzMbv_uuOc9"
      },
      "outputs": [],
      "source": [
        "training = []\n",
        "outputEmpty = [0] * len(classes)\n",
        "\n",
        "for document in documents:\n",
        "    bag = []\n",
        "    wordPatterns = document[0]\n",
        "    wordPatterns = [lemmatizer.lemmatize(word.lower()) for word in wordPatterns]\n",
        "    for word in words:\n",
        "        bag.append(1) if word in wordPatterns else bag.append(0)\n",
        "    outputRow = list(outputEmpty)\n",
        "    outputRow[classes.index(document[1])] = 1\n",
        "    training.append(bag + outputRow)\n",
        "\n",
        "random.shuffle(training)\n",
        "training = np.array(training)\n",
        "\n",
        "trainX = training[:, :len(words)]\n",
        "trainY = training[:, len(words):]"
      ]
    },
    {
      "cell_type": "markdown",
      "metadata": {
        "id": "P5sbaB4RrUtR"
      },
      "source": [
        "#Model"
      ]
    },
    {
      "cell_type": "code",
      "execution_count": null,
      "metadata": {
        "id": "btFl1OvarTfa"
      },
      "outputs": [],
      "source": [
        "model = tf.keras.Sequential()\n",
        "model.add(tf.keras.layers.Dense(128, input_shape=(len(trainX[0]),), activation='relu'))\n",
        "model.add(tf.keras.layers.Dense(128, activation='relu'))\n",
        "model.add(tf.keras.layers.Dropout(0.2))\n",
        "model.add(tf.keras.layers.Dense(64, activation='relu'))\n",
        "model.add(tf.keras.layers.Dropout(0.2))\n",
        "model.add(tf.keras.layers.Dense(len(trainY[0]), activation='softmax'))\n",
        "\n",
        "sgd = tf.keras.optimizers.Adam(learning_rate=0.0001)\n",
        "model.compile(loss='categorical_crossentropy', optimizer=sgd, metrics=['accuracy'])\n"
      ]
    },
    {
      "cell_type": "markdown",
      "metadata": {
        "id": "iBYopj7JrXXF"
      },
      "source": [
        "#Training"
      ]
    },
    {
      "cell_type": "code",
      "execution_count": null,
      "metadata": {
        "colab": {
          "base_uri": "https://localhost:8080/"
        },
        "id": "Ux-J6_hLHnue",
        "outputId": "24ee3c6b-6bd5-423d-9c05-e4f5a6748f34"
      },
      "outputs": [
        {
          "name": "stdout",
          "output_type": "stream",
          "text": [
            "Epoch 1/100\n",
            "1112/1112 [==============================] - 8s 7ms/step - loss: 5.4650 - accuracy: 0.0537\n",
            "Epoch 2/100\n",
            "1112/1112 [==============================] - 7s 6ms/step - loss: 5.2012 - accuracy: 0.0693\n",
            "Epoch 3/100\n",
            "1112/1112 [==============================] - 6s 5ms/step - loss: 5.0364 - accuracy: 0.0798\n",
            "Epoch 4/100\n",
            "1112/1112 [==============================] - 7s 6ms/step - loss: 4.8644 - accuracy: 0.0939\n",
            "Epoch 5/100\n",
            "1112/1112 [==============================] - 6s 6ms/step - loss: 4.6726 - accuracy: 0.1197\n",
            "Epoch 6/100\n",
            "1112/1112 [==============================] - 7s 6ms/step - loss: 4.4779 - accuracy: 0.1371\n",
            "Epoch 7/100\n",
            "1112/1112 [==============================] - 6s 5ms/step - loss: 4.2661 - accuracy: 0.1638\n",
            "Epoch 8/100\n",
            "1112/1112 [==============================] - 7s 6ms/step - loss: 4.0748 - accuracy: 0.1860\n",
            "Epoch 9/100\n",
            "1112/1112 [==============================] - 6s 5ms/step - loss: 3.8464 - accuracy: 0.2178\n",
            "Epoch 10/100\n",
            "1112/1112 [==============================] - 7s 6ms/step - loss: 3.6255 - accuracy: 0.2525\n",
            "Epoch 11/100\n",
            "1112/1112 [==============================] - 6s 5ms/step - loss: 3.4261 - accuracy: 0.2813\n",
            "Epoch 12/100\n",
            "1112/1112 [==============================] - 7s 6ms/step - loss: 3.2305 - accuracy: 0.3074\n",
            "Epoch 13/100\n",
            "1112/1112 [==============================] - 6s 5ms/step - loss: 3.0390 - accuracy: 0.3398\n",
            "Epoch 14/100\n",
            "1112/1112 [==============================] - 7s 6ms/step - loss: 2.8521 - accuracy: 0.3761\n",
            "Epoch 15/100\n",
            "1112/1112 [==============================] - 6s 5ms/step - loss: 2.6884 - accuracy: 0.4001\n",
            "Epoch 16/100\n",
            "1112/1112 [==============================] - 7s 6ms/step - loss: 2.5494 - accuracy: 0.4265\n",
            "Epoch 17/100\n",
            "1112/1112 [==============================] - 6s 5ms/step - loss: 2.4195 - accuracy: 0.4376\n",
            "Epoch 18/100\n",
            "1112/1112 [==============================] - 7s 6ms/step - loss: 2.2707 - accuracy: 0.4697\n",
            "Epoch 19/100\n",
            "1112/1112 [==============================] - 6s 5ms/step - loss: 2.1545 - accuracy: 0.4931\n",
            "Epoch 20/100\n",
            "1112/1112 [==============================] - 7s 6ms/step - loss: 2.0324 - accuracy: 0.5141\n",
            "Epoch 21/100\n",
            "1112/1112 [==============================] - 6s 5ms/step - loss: 1.9169 - accuracy: 0.5387\n",
            "Epoch 22/100\n",
            "1112/1112 [==============================] - 7s 6ms/step - loss: 1.8119 - accuracy: 0.5564\n",
            "Epoch 23/100\n",
            "1112/1112 [==============================] - 6s 5ms/step - loss: 1.7333 - accuracy: 0.5756\n",
            "Epoch 24/100\n",
            "1112/1112 [==============================] - 7s 6ms/step - loss: 1.6287 - accuracy: 0.5864\n",
            "Epoch 25/100\n",
            "1112/1112 [==============================] - 6s 5ms/step - loss: 1.5182 - accuracy: 0.6245\n",
            "Epoch 26/100\n",
            "1112/1112 [==============================] - 7s 6ms/step - loss: 1.4758 - accuracy: 0.6305\n",
            "Epoch 27/100\n",
            "1112/1112 [==============================] - 6s 5ms/step - loss: 1.3908 - accuracy: 0.6542\n",
            "Epoch 28/100\n",
            "1112/1112 [==============================] - 7s 6ms/step - loss: 1.3397 - accuracy: 0.6578\n",
            "Epoch 29/100\n",
            "1112/1112 [==============================] - 6s 5ms/step - loss: 1.2375 - accuracy: 0.6794\n",
            "Epoch 30/100\n",
            "1112/1112 [==============================] - 7s 6ms/step - loss: 1.1825 - accuracy: 0.6968\n",
            "Epoch 31/100\n",
            "1112/1112 [==============================] - 6s 5ms/step - loss: 1.1090 - accuracy: 0.7190\n",
            "Epoch 32/100\n",
            "1112/1112 [==============================] - 7s 6ms/step - loss: 1.0611 - accuracy: 0.7271\n",
            "Epoch 33/100\n",
            "1112/1112 [==============================] - 6s 5ms/step - loss: 1.0285 - accuracy: 0.7343\n",
            "Epoch 34/100\n",
            "1112/1112 [==============================] - 7s 6ms/step - loss: 0.9773 - accuracy: 0.7436\n",
            "Epoch 35/100\n",
            "1112/1112 [==============================] - 6s 5ms/step - loss: 0.9182 - accuracy: 0.7633\n",
            "Epoch 36/100\n",
            "1112/1112 [==============================] - 7s 6ms/step - loss: 0.8871 - accuracy: 0.7693\n",
            "Epoch 37/100\n",
            "1112/1112 [==============================] - 6s 5ms/step - loss: 0.8349 - accuracy: 0.7915\n",
            "Epoch 38/100\n",
            "1112/1112 [==============================] - 7s 6ms/step - loss: 0.7865 - accuracy: 0.7939\n",
            "Epoch 39/100\n",
            "1112/1112 [==============================] - 6s 5ms/step - loss: 0.7852 - accuracy: 0.7930\n",
            "Epoch 40/100\n",
            "1112/1112 [==============================] - 7s 6ms/step - loss: 0.7651 - accuracy: 0.7867\n",
            "Epoch 41/100\n",
            "1112/1112 [==============================] - 6s 5ms/step - loss: 0.7082 - accuracy: 0.8170\n",
            "Epoch 42/100\n",
            "1112/1112 [==============================] - 7s 6ms/step - loss: 0.6948 - accuracy: 0.8092\n",
            "Epoch 43/100\n",
            "1112/1112 [==============================] - 6s 5ms/step - loss: 0.6629 - accuracy: 0.8269\n",
            "Epoch 44/100\n",
            "1112/1112 [==============================] - 7s 6ms/step - loss: 0.6320 - accuracy: 0.8329\n",
            "Epoch 45/100\n",
            "1112/1112 [==============================] - 6s 6ms/step - loss: 0.6344 - accuracy: 0.8266\n",
            "Epoch 46/100\n",
            "1112/1112 [==============================] - 7s 6ms/step - loss: 0.6017 - accuracy: 0.8389\n",
            "Epoch 47/100\n",
            "1112/1112 [==============================] - 6s 6ms/step - loss: 0.5525 - accuracy: 0.8461\n",
            "Epoch 48/100\n",
            "1112/1112 [==============================] - 7s 6ms/step - loss: 0.5459 - accuracy: 0.8497\n",
            "Epoch 49/100\n",
            "1112/1112 [==============================] - 6s 6ms/step - loss: 0.5340 - accuracy: 0.8467\n",
            "Epoch 50/100\n",
            "1112/1112 [==============================] - 7s 6ms/step - loss: 0.5225 - accuracy: 0.8527\n",
            "Epoch 51/100\n",
            "1112/1112 [==============================] - 7s 6ms/step - loss: 0.5092 - accuracy: 0.8617\n",
            "Epoch 52/100\n",
            "1112/1112 [==============================] - 6s 6ms/step - loss: 0.4770 - accuracy: 0.8674\n",
            "Epoch 53/100\n",
            "1112/1112 [==============================] - 7s 6ms/step - loss: 0.4626 - accuracy: 0.8758\n",
            "Epoch 54/100\n",
            "1112/1112 [==============================] - 6s 5ms/step - loss: 0.4348 - accuracy: 0.8752\n",
            "Epoch 55/100\n",
            "1112/1112 [==============================] - 7s 6ms/step - loss: 0.4343 - accuracy: 0.8770\n",
            "Epoch 56/100\n",
            "1112/1112 [==============================] - 6s 5ms/step - loss: 0.4252 - accuracy: 0.8791\n",
            "Epoch 57/100\n",
            "1112/1112 [==============================] - 7s 6ms/step - loss: 0.4132 - accuracy: 0.8827\n",
            "Epoch 58/100\n",
            "1112/1112 [==============================] - 6s 5ms/step - loss: 0.3863 - accuracy: 0.8911\n",
            "Epoch 59/100\n",
            "1112/1112 [==============================] - 7s 6ms/step - loss: 0.3866 - accuracy: 0.8920\n",
            "Epoch 60/100\n",
            "1112/1112 [==============================] - 6s 5ms/step - loss: 0.3653 - accuracy: 0.8944\n",
            "Epoch 61/100\n",
            "1112/1112 [==============================] - 7s 6ms/step - loss: 0.3531 - accuracy: 0.8971\n",
            "Epoch 62/100\n",
            "1112/1112 [==============================] - 6s 5ms/step - loss: 0.3510 - accuracy: 0.9016\n",
            "Epoch 63/100\n",
            "1112/1112 [==============================] - 7s 6ms/step - loss: 0.3447 - accuracy: 0.9007\n",
            "Epoch 64/100\n",
            "1112/1112 [==============================] - 6s 5ms/step - loss: 0.3310 - accuracy: 0.9043\n",
            "Epoch 65/100\n",
            "1112/1112 [==============================] - 7s 6ms/step - loss: 0.3224 - accuracy: 0.9070\n",
            "Epoch 66/100\n",
            "1112/1112 [==============================] - 6s 5ms/step - loss: 0.3143 - accuracy: 0.9073\n",
            "Epoch 67/100\n",
            "1112/1112 [==============================] - 7s 6ms/step - loss: 0.2944 - accuracy: 0.9118\n",
            "Epoch 68/100\n",
            "1112/1112 [==============================] - 6s 5ms/step - loss: 0.3011 - accuracy: 0.9130\n",
            "Epoch 69/100\n",
            "1112/1112 [==============================] - 7s 6ms/step - loss: 0.2850 - accuracy: 0.9106\n",
            "Epoch 70/100\n",
            "1112/1112 [==============================] - 6s 5ms/step - loss: 0.2788 - accuracy: 0.9133\n",
            "Epoch 71/100\n",
            "1112/1112 [==============================] - 7s 6ms/step - loss: 0.2731 - accuracy: 0.9145\n",
            "Epoch 72/100\n",
            "1112/1112 [==============================] - 6s 5ms/step - loss: 0.2800 - accuracy: 0.9181\n",
            "Epoch 73/100\n",
            "1112/1112 [==============================] - 7s 6ms/step - loss: 0.2911 - accuracy: 0.9100\n",
            "Epoch 74/100\n",
            "1112/1112 [==============================] - 6s 5ms/step - loss: 0.2792 - accuracy: 0.9184\n",
            "Epoch 75/100\n",
            "1112/1112 [==============================] - 7s 6ms/step - loss: 0.2611 - accuracy: 0.9214\n",
            "Epoch 76/100\n",
            "1112/1112 [==============================] - 6s 5ms/step - loss: 0.2617 - accuracy: 0.9196\n",
            "Epoch 77/100\n",
            "1112/1112 [==============================] - 7s 6ms/step - loss: 0.2519 - accuracy: 0.9244\n",
            "Epoch 78/100\n",
            "1112/1112 [==============================] - 6s 5ms/step - loss: 0.2561 - accuracy: 0.9208\n",
            "Epoch 79/100\n",
            "1112/1112 [==============================] - 7s 6ms/step - loss: 0.2411 - accuracy: 0.9232\n",
            "Epoch 80/100\n",
            "1112/1112 [==============================] - 6s 5ms/step - loss: 0.2365 - accuracy: 0.9271\n",
            "Epoch 81/100\n",
            "1112/1112 [==============================] - 7s 6ms/step - loss: 0.2194 - accuracy: 0.9322\n",
            "Epoch 82/100\n",
            "1112/1112 [==============================] - 6s 5ms/step - loss: 0.2318 - accuracy: 0.9295\n",
            "Epoch 83/100\n",
            "1112/1112 [==============================] - 7s 6ms/step - loss: 0.2246 - accuracy: 0.9310\n",
            "Epoch 84/100\n",
            "1112/1112 [==============================] - 6s 5ms/step - loss: 0.2217 - accuracy: 0.9298\n",
            "Epoch 85/100\n",
            "1112/1112 [==============================] - 7s 6ms/step - loss: 0.2198 - accuracy: 0.9298\n",
            "Epoch 86/100\n",
            "1112/1112 [==============================] - 6s 5ms/step - loss: 0.2196 - accuracy: 0.9295\n",
            "Epoch 87/100\n",
            "1112/1112 [==============================] - 7s 6ms/step - loss: 0.2076 - accuracy: 0.9334\n",
            "Epoch 88/100\n",
            "1112/1112 [==============================] - 6s 5ms/step - loss: 0.2120 - accuracy: 0.9325\n",
            "Epoch 89/100\n",
            "1112/1112 [==============================] - 7s 6ms/step - loss: 0.1940 - accuracy: 0.9379\n",
            "Epoch 90/100\n",
            "1112/1112 [==============================] - 6s 5ms/step - loss: 0.2001 - accuracy: 0.9322\n",
            "Epoch 91/100\n",
            "1112/1112 [==============================] - 7s 6ms/step - loss: 0.1887 - accuracy: 0.9382\n",
            "Epoch 92/100\n",
            "1112/1112 [==============================] - 6s 5ms/step - loss: 0.1822 - accuracy: 0.9370\n",
            "Epoch 93/100\n",
            "1112/1112 [==============================] - 7s 6ms/step - loss: 0.1823 - accuracy: 0.9442\n",
            "Epoch 94/100\n",
            "1112/1112 [==============================] - 6s 5ms/step - loss: 0.1774 - accuracy: 0.9442\n",
            "Epoch 95/100\n",
            "1112/1112 [==============================] - 7s 6ms/step - loss: 0.1944 - accuracy: 0.9376\n",
            "Epoch 96/100\n",
            "1112/1112 [==============================] - 6s 5ms/step - loss: 0.1809 - accuracy: 0.9394\n",
            "Epoch 97/100\n",
            "1112/1112 [==============================] - 7s 6ms/step - loss: 0.1719 - accuracy: 0.9430\n",
            "Epoch 98/100\n",
            "1112/1112 [==============================] - 6s 6ms/step - loss: 0.1809 - accuracy: 0.9424\n",
            "Epoch 99/100\n",
            "1112/1112 [==============================] - 7s 6ms/step - loss: 0.1746 - accuracy: 0.9415\n",
            "Epoch 100/100\n",
            "1112/1112 [==============================] - 6s 6ms/step - loss: 0.1819 - accuracy: 0.9352\n",
            "Done\n"
          ]
        },
        {
          "name": "stderr",
          "output_type": "stream",
          "text": [
            "/usr/local/lib/python3.10/dist-packages/keras/src/engine/training.py:3103: UserWarning: You are saving your model as an HDF5 file via `model.save()`. This file format is considered legacy. We recommend using instead the native Keras format, e.g. `model.save('my_model.keras')`.\n",
            "  saving_api.save_model(\n"
          ]
        }
      ],
      "source": [
        "\n",
        "history= model.fit(trainX, trainY, epochs=100, batch_size=3, verbose=1)\n",
        "model.save('chatbot_model.h5')\n",
        "print('Done')"
      ]
    },
    {
      "cell_type": "markdown",
      "metadata": {
        "id": "BMht4a6sr83R"
      },
      "source": [
        "#Test"
      ]
    },
    {
      "cell_type": "code",
      "execution_count": null,
      "metadata": {
        "colab": {
          "background_save": true,
          "base_uri": "https://localhost:8080/"
        },
        "id": "DcanSJH4Hnyo",
        "outputId": "8bf90494-c1a4-4da5-8e3f-7c3deda875bc"
      },
      "outputs": [
        {
          "name": "stdout",
          "output_type": "stream",
          "text": [
            "1/1 [==============================] - 0s 180ms/step\n",
            "Bot: Stress is a natural response to challenging situations, but it's important to find healthy ways to manage it. Consider practicing relaxation techniques such as deep breathing, meditation, or yoga. Additionally, prioritize tasks, delegate responsibilities, and set boundaries to reduce stressors in your life. Remember, it's okay to ask for help and prioritize your well-being.\n",
            "1/1 [==============================] - 0s 181ms/step\n",
            "Bot: I'm here for you. Could you tell me why you're feeling this way?\n",
            "1/1 [==============================] - 0s 69ms/step\n",
            "Bot: Additionally, many workplaces offer employee assistance programs (EAPs) that provide confidential counseling services to employees and their families. Check with your HR department to see if this option is available to you.\n",
            "1/1 [==============================] - 0s 76ms/step\n",
            "Bot: Your body is sending you signals that it needs support. Let's discuss ways to address these physical symptoms and work towards feeling better overall.\n"
          ]
        }
      ],
      "source": [
        "# Load preprocessed data\n",
        "words = pickle.load(open('words.pkl', 'rb'))\n",
        "classes = pickle.load(open('classes.pkl', 'rb'))\n",
        "\n",
        "# Load trained model\n",
        "model = tf.keras.models.load_model('chatbot_model.h5')\n",
        "\n",
        "while True:\n",
        "    inp = input(\"You: \")\n",
        "    if inp.lower() == \"quit\":\n",
        "        break\n",
        "    emotion = detect_emotion(inp)\n",
        "    results = classify(inp+' '+emotion)\n",
        "    if results:\n",
        "        response = get_response(results)\n",
        "        print(\"Bot:\", response)\n",
        "    else:\n",
        "        print(\"Bot: I'm sorry, I didn't understand that.\")"
      ]
    },
    {
      "cell_type": "code",
      "execution_count": null,
      "metadata": {
        "id": "Rd5hFMGkHoGG"
      },
      "outputs": [],
      "source": []
    }
  ],
  "metadata": {
    "accelerator": "GPU",
    "colab": {
      "gpuType": "T4",
      "provenance": []
    },
    "kernelspec": {
      "display_name": "Python 3",
      "name": "python3"
    },
    "language_info": {
      "name": "python"
    }
  },
  "nbformat": 4,
  "nbformat_minor": 0
}