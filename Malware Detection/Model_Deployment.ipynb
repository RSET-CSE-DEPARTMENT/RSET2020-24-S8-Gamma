{
  "cells": [
    {
      "cell_type": "code",
      "execution_count": 16,
      "metadata": {
        "colab": {
          "base_uri": "https://localhost:8080/",
          "height": 384
        },
        "id": "ERkA03C3I6_D",
        "outputId": "112ba083-ff23-4956-bf74-195da549fc22"
      },
      "outputs": [],
      "source": [
        "#setting up\n",
        "#import boto3, re\n",
        "#from sagemaker import get_execution_role\n",
        "#role = get_execution_role()\n",
        "from sagemaker import get_execution_role\n",
        "\n",
        "# Specify the IAM role ARN explicitly\n",
        "role_arn = 'arn:aws:iam::211125471422:role/maker'\n",
        "\n",
        "# Use the specified IAM role ARN\n",
        "role = role_arn\n",
        "\n",
        "\n"
      ]
    },
    {
      "cell_type": "code",
      "execution_count": 17,
      "metadata": {},
      "outputs": [],
      "source": [
        "import sagemaker\n",
        "\n",
        "# Set SageMaker SDK configurations programmatically\n",
        "sagemaker.Session().config = {\"region_name\": \"eu-north-1\", \"profile_name\": \"Sheethal\"}\n",
        "\n",
        "# Initialize SageMaker SDK with custom configurations\n",
        "sagemaker_session = sagemaker.Session()\n"
      ]
    },
    {
      "cell_type": "code",
      "execution_count": 1,
      "metadata": {
        "id": "aKSASgz4JNiT"
      },
      "outputs": [
        {
          "name": "stdout",
          "output_type": "stream",
          "text": [
            "WARNING:tensorflow:From C:\\Users\\mshee\\AppData\\Local\\Packages\\PythonSoftwareFoundation.Python.3.11_qbz5n2kfra8p0\\LocalCache\\local-packages\\Python311\\site-packages\\keras\\src\\losses.py:2976: The name tf.losses.sparse_softmax_cross_entropy is deprecated. Please use tf.compat.v1.losses.sparse_softmax_cross_entropy instead.\n",
            "\n",
            "WARNING:tensorflow:From C:\\Users\\mshee\\AppData\\Local\\Temp\\ipykernel_27248\\1230772927.py:6: The name tf.disable_eager_execution is deprecated. Please use tf.compat.v1.disable_eager_execution instead.\n",
            "\n"
          ]
        }
      ],
      "source": [
        "#speed up execution of tensorflow operations\n",
        "import keras\n",
        "from keras.models import model_from_json\n",
        "import tensorflow as tf\n",
        "\n",
        "tf.compat.v1.disable_eager_execution()\n"
      ]
    },
    {
      "cell_type": "code",
      "execution_count": 2,
      "metadata": {
        "id": "Nm80rCE-JUq5"
      },
      "outputs": [
        {
          "name": "stderr",
          "output_type": "stream",
          "text": [
            "A subdirectory or file keras_model already exists.\n"
          ]
        }
      ],
      "source": [
        "!mkdir keras_model"
      ]
    },
    {
      "cell_type": "code",
      "execution_count": 3,
      "metadata": {
        "id": "YMbzO4mSJY-3"
      },
      "outputs": [
        {
          "name": "stdout",
          "output_type": "stream",
          "text": [
            " Volume in drive C is OS\n",
            " Volume Serial Number is D409-CDF8\n",
            "\n",
            " Directory of c:\\Users\\mshee\\OneDrive\\Desktop\\proo\\keras_model\n",
            "\n",
            "24-02-2024  09:11    <DIR>          .\n",
            "03-04-2024  19:50    <DIR>          ..\n",
            "21-02-2024  22:32        12,137,104 my_model_weights.h5\n",
            "21-02-2024  22:32             4,370 mymodeljson.json\n",
            "               2 File(s)     12,141,474 bytes\n",
            "               2 Dir(s)  230,173,659,136 bytes free\n"
          ]
        }
      ],
      "source": [
        "ls keras_model"
      ]
    },
    {
      "cell_type": "code",
      "execution_count": 2,
      "metadata": {
        "colab": {
          "base_uri": "https://localhost:8080/",
          "height": 245
        },
        "id": "lTEELME4JcGu",
        "outputId": "a752445b-4011-45d7-dceb-760211dea27b"
      },
      "outputs": [
        {
          "name": "stdout",
          "output_type": "stream",
          "text": [
            "WARNING:tensorflow:From C:\\Users\\mshee\\AppData\\Local\\Packages\\PythonSoftwareFoundation.Python.3.11_qbz5n2kfra8p0\\LocalCache\\local-packages\\Python311\\site-packages\\keras\\src\\utils\\version_utils.py:76: The name tf.executing_eagerly_outside_functions is deprecated. Please use tf.compat.v1.executing_eagerly_outside_functions instead.\n",
            "\n",
            "WARNING:tensorflow:From C:\\Users\\mshee\\AppData\\Local\\Packages\\PythonSoftwareFoundation.Python.3.11_qbz5n2kfra8p0\\LocalCache\\local-packages\\Python311\\site-packages\\keras\\src\\layers\\normalization\\batch_normalization.py:883: _colocate_with (from tensorflow.python.framework.ops) is deprecated and will be removed in a future version.\n",
            "Instructions for updating:\n",
            "Colocations handled automatically by placer.\n",
            "Loaded model from disk\n",
            "INFO:tensorflow:Assets written to: C:\\Users\\mshee\\OneDrive\\Desktop\\proo\\assets\n"
          ]
        },
        {
          "name": "stderr",
          "output_type": "stream",
          "text": [
            "INFO:tensorflow:Assets written to: C:\\Users\\mshee\\OneDrive\\Desktop\\proo\\assets\n"
          ]
        }
      ],
      "source": [
        "# #loading the model\n",
        "# json_file = open('C:/Users/mshee/OneDrive/Desktop/proo/keras_model/'+'mymodeljson.json', 'r')\n",
        "# loaded_model_json = json_file.read()\n",
        "# json_file.close()\n",
        "# loaded_model = model_from_json(loaded_model_json,custom_objects={\"GlorotUniform\": tf.keras.initializers.glorot_uniform})\n",
        "\n",
        "\n",
        "from tensorflow.keras.models import model_from_json\n",
        "\n",
        "# Load the JSON file\n",
        "with open('C:/Users/mshee/OneDrive/Desktop/proo/keras_model/'+'mymodeljson.json', 'r') as json_file:\n",
        "    loaded_model_json = json_file.read()\n",
        "\n",
        "# Load the model architecture from JSON\n",
        "loaded_model = model_from_json(loaded_model_json)\n",
        "\n",
        "# Load the weights (assuming they are saved separately)\n",
        "loaded_model.load_weights('C:\\\\Users\\mshee\\OneDrive\\Desktop\\proo\\keras_model\\my_model_weights.h5')\n",
        "print(\"Loaded model from disk\")\n",
        "tf.saved_model.save(loaded_model, 'C:\\\\Users\\mshee\\OneDrive\\Desktop\\proo')"
      ]
    },
    {
      "cell_type": "code",
      "execution_count": 3,
      "metadata": {
        "colab": {
          "base_uri": "https://localhost:8080/",
          "height": 35
        },
        "id": "D8vVxuaGJqRp",
        "outputId": "70dea49d-0742-4a44-fea3-e02870f52f8d"
      },
      "outputs": [
        {
          "data": {
            "text/plain": [
              "'export/Servo/1'"
            ]
          },
          "execution_count": 3,
          "metadata": {},
          "output_type": "execute_result"
        }
      ],
      "source": [
        "from tensorflow.python.saved_model import builder\n",
        "from tensorflow.python.saved_model.signature_def_utils import predict_signature_def\n",
        "from tensorflow.python.saved_model import tag_constants\n",
        "\n",
        "\n",
        "model_version = '1'\n",
        "export_dir = 'export/Servo/' + model_version\n",
        "export_dir"
      ]
    },
    {
      "cell_type": "code",
      "execution_count": 4,
      "metadata": {
        "colab": {
          "base_uri": "https://localhost:8080/",
          "height": 304
        },
        "id": "ZJHgXbV9JvD5",
        "outputId": "36307d8a-abcb-4683-c552-634213cc56fc"
      },
      "outputs": [],
      "source": [
        "import shutil\n",
        "shutil.rmtree(export_dir)"
      ]
    },
    {
      "cell_type": "code",
      "execution_count": 5,
      "metadata": {
        "id": "xuziRzl1Jy4g"
      },
      "outputs": [],
      "source": [
        "# Build the Protocol Buffer SavedModel at 'export_dir'\n",
        "build = builder.SavedModelBuilder(export_dir)"
      ]
    },
    {
      "cell_type": "code",
      "execution_count": 6,
      "metadata": {
        "colab": {
          "base_uri": "https://localhost:8080/",
          "height": 176
        },
        "id": "Tcj-Xh5VJ2ry",
        "outputId": "fc94d1d3-d99c-4442-ad1f-e439346dcc08"
      },
      "outputs": [
        {
          "name": "stdout",
          "output_type": "stream",
          "text": [
            "WARNING:tensorflow:From C:\\Users\\mshee\\AppData\\Local\\Temp\\ipykernel_27248\\4283701803.py:12: The name tf.saved_model.signature_def_utils.predict_signature_def is deprecated. Please use tf.compat.v1.saved_model.signature_def_utils.predict_signature_def instead.\n",
            "\n"
          ]
        },
        {
          "name": "stderr",
          "output_type": "stream",
          "text": [
            "WARNING:tensorflow:From C:\\Users\\mshee\\AppData\\Local\\Temp\\ipykernel_27248\\4283701803.py:12: The name tf.saved_model.signature_def_utils.predict_signature_def is deprecated. Please use tf.compat.v1.saved_model.signature_def_utils.predict_signature_def instead.\n",
            "\n"
          ]
        },
        {
          "name": "stdout",
          "output_type": "stream",
          "text": [
            "WARNING:tensorflow:From C:\\Users\\mshee\\AppData\\Local\\Packages\\PythonSoftwareFoundation.Python.3.11_qbz5n2kfra8p0\\LocalCache\\local-packages\\Python311\\site-packages\\tensorflow\\python\\saved_model\\signature_def_utils_impl.py:225: build_tensor_info (from tensorflow.python.saved_model.utils_impl) is deprecated and will be removed in a future version.\n",
            "Instructions for updating:\n",
            "This API was designed for TensorFlow v1. See https://www.tensorflow.org/guide/migrate for instructions on how to migrate your code to TensorFlow v2.\n"
          ]
        },
        {
          "name": "stderr",
          "output_type": "stream",
          "text": [
            "WARNING:tensorflow:From C:\\Users\\mshee\\AppData\\Local\\Packages\\PythonSoftwareFoundation.Python.3.11_qbz5n2kfra8p0\\LocalCache\\local-packages\\Python311\\site-packages\\tensorflow\\python\\saved_model\\signature_def_utils_impl.py:225: build_tensor_info (from tensorflow.python.saved_model.utils_impl) is deprecated and will be removed in a future version.\n",
            "Instructions for updating:\n",
            "This API was designed for TensorFlow v1. See https://www.tensorflow.org/guide/migrate for instructions on how to migrate your code to TensorFlow v2.\n"
          ]
        }
      ],
      "source": [
        "import tensorflow as tf\n",
        "\n",
        "# Disable eager execution\n",
        "tf.compat.v1.disable_eager_execution()\n",
        "\n",
        "# Assuming loaded_model is your TensorFlow model\n",
        "# Define the input and output tensors\n",
        "input_tensor = loaded_model.input\n",
        "output_tensor = loaded_model.output\n",
        "\n",
        "# Create prediction signature\n",
        "signature = tf.compat.v1.saved_model.signature_def_utils.predict_signature_def(\n",
        "    inputs={\"inputs\": input_tensor},\n",
        "    outputs={\"score\": output_tensor}\n",
        ")\n"
      ]
    },
    {
      "cell_type": "code",
      "execution_count": 7,
      "metadata": {
        "colab": {
          "base_uri": "https://localhost:8080/",
          "height": 211
        },
        "id": "AQ_2PUy1J6BL",
        "outputId": "e16993b4-0b0c-4e6b-a682-e87bcea7cb8f"
      },
      "outputs": [
        {
          "name": "stdout",
          "output_type": "stream",
          "text": [
            "INFO:tensorflow:No assets to save.\n"
          ]
        },
        {
          "name": "stderr",
          "output_type": "stream",
          "text": [
            "INFO:tensorflow:No assets to save.\n"
          ]
        },
        {
          "name": "stdout",
          "output_type": "stream",
          "text": [
            "INFO:tensorflow:No assets to write.\n"
          ]
        },
        {
          "name": "stderr",
          "output_type": "stream",
          "text": [
            "INFO:tensorflow:No assets to write.\n"
          ]
        },
        {
          "name": "stdout",
          "output_type": "stream",
          "text": [
            "INFO:tensorflow:SavedModel written to: export/Servo/1\\saved_model.pb\n"
          ]
        },
        {
          "name": "stderr",
          "output_type": "stream",
          "text": [
            "INFO:tensorflow:SavedModel written to: export/Servo/1\\saved_model.pb\n"
          ]
        }
      ],
      "source": [
        "import tensorflow as tf\n",
        "\n",
        "with tf.compat.v1.keras.backend.get_session() as sess:\n",
        "    # Save the meta graph and variables\n",
        "    build.add_meta_graph_and_variables(\n",
        "        sess=sess, tags=[tag_constants.SERVING], signature_def_map={\"serving_default\": signature})\n",
        "    build.save()\n",
        "    # build.add_meta_graph_and_variables(\n",
        "    #     sess=sess, tags=[tf.saved_model.DEFAULT_SERVING_SIGNATURE_DEF_KEY], \n",
        "    #     signature_def_map={\"serving_default\": signature})\n",
        "    # build.save()\n"
      ]
    },
    {
      "cell_type": "code",
      "execution_count": 12,
      "metadata": {
        "colab": {
          "base_uri": "https://localhost:8080/"
        },
        "id": "VnOgVzp-J96B",
        "outputId": "e9764620-55b7-47f5-9cdb-6f44910be70e"
      },
      "outputs": [
        {
          "name": "stderr",
          "output_type": "stream",
          "text": [
            "The filename, directory name, or volume label syntax is incorrect.\n"
          ]
        }
      ],
      "source": [
        "ls 'C:\\\\Users\\mshee\\OneDrive\\Desktop\\proo\\export\\Servo'"
      ]
    },
    {
      "cell_type": "code",
      "execution_count": 13,
      "metadata": {
        "id": "pO3WX6YfKDz3"
      },
      "outputs": [],
      "source": [
        "import tarfile\n",
        "with tarfile.open('model.tar.gz', mode='w:gz') as archive:\n",
        "    archive.add('export', recursive=True)"
      ]
    },
    {
      "cell_type": "code",
      "execution_count": 14,
      "metadata": {
        "colab": {
          "base_uri": "https://localhost:8080/",
          "height": 367
        },
        "id": "jknL8uygKKTw",
        "outputId": "af41786e-c86f-4d38-9fad-4539bad82d33"
      },
      "outputs": [
        {
          "name": "stdout",
          "output_type": "stream",
          "text": [
            "sagemaker.config INFO - Not applying SDK defaults from location: C:\\ProgramData\\sagemaker\\sagemaker\\config.yaml\n",
            "sagemaker.config INFO - Not applying SDK defaults from location: C:\\Users\\mshee\\AppData\\Local\\sagemaker\\sagemaker\\config.yaml\n"
          ]
        }
      ],
      "source": [
        "import sagemaker\n",
        "\n",
        "sagemaker_session = sagemaker.Session()\n",
        "inputs = sagemaker_session.upload_data(path='model.tar.gz', key_prefix='model')"
      ]
    },
    {
      "cell_type": "code",
      "execution_count": 15,
      "metadata": {
        "id": "TNBF5xAQKPlK"
      },
      "outputs": [],
      "source": [
        "# Create a new file named train.py\n",
        "with open('train.py', 'w') as f:\n",
        "    pass\n"
      ]
    },
    {
      "cell_type": "code",
      "execution_count": 18,
      "metadata": {},
      "outputs": [],
      "source": [
        "from sagemaker.tensorflow.model import TensorFlowModel\n",
        "sagemaker_model = TensorFlowModel(model_data = 's3://' + sagemaker_session.default_bucket() + '/model/model.tar.gz',\n",
        "                                  role = role,\n",
        "                                  framework_version = '1.12',\n",
        "                                  entry_point = 'train.py')"
      ]
    },
    {
      "cell_type": "code",
      "execution_count": 19,
      "metadata": {
        "colab": {
          "base_uri": "https://localhost:8080/",
          "height": 124
        },
        "id": "RgI0ehrmKS2-",
        "outputId": "cbc174ed-1382-440b-91b8-3dee1a740781"
      },
      "outputs": [
        {
          "name": "stdout",
          "output_type": "stream",
          "text": [
            "----!CPU times: total: 3.75 s\n",
            "Wall time: 4min 24s\n"
          ]
        }
      ],
      "source": [
        "%%time\n",
        "predictor = sagemaker_model.deploy(initial_instance_count=1,\n",
        "                                   instance_type='ml.m5.large')"
      ]
    },
    {
      "cell_type": "code",
      "execution_count": 20,
      "metadata": {
        "colab": {
          "base_uri": "https://localhost:8080/",
          "height": 141
        },
        "id": "sqX_p1-UKWm3",
        "outputId": "cd605b96-8d4e-45e9-fb6b-3f6dcad8fd60"
      },
      "outputs": [
        {
          "name": "stderr",
          "output_type": "stream",
          "text": [
            "WARNING:sagemaker.deprecations:The endpoint attribute has been renamed in sagemaker>=2.\n",
            "See: https://sagemaker.readthedocs.io/en/stable/v2.html for details.\n"
          ]
        },
        {
          "data": {
            "text/plain": [
              "'sagemaker-tensorflow-serving-2024-04-06-18-33-45-013'"
            ]
          },
          "execution_count": 20,
          "metadata": {},
          "output_type": "execute_result"
        }
      ],
      "source": [
        "predictor.endpoint"
      ]
    },
    {
      "cell_type": "code",
      "execution_count": 8,
      "metadata": {
        "id": "cx3kL5VfKam9"
      },
      "outputs": [],
      "source": [
        "endpoint_name = 'sagemaker-tensorflow-serving-2024-03-22-08-38-43-072'"
      ]
    }
  ],
  "metadata": {
    "colab": {
      "provenance": []
    },
    "kernelspec": {
      "display_name": "Python 3",
      "name": "python3"
    },
    "language_info": {
      "codemirror_mode": {
        "name": "ipython",
        "version": 3
      },
      "file_extension": ".py",
      "mimetype": "text/x-python",
      "name": "python",
      "nbconvert_exporter": "python",
      "pygments_lexer": "ipython3",
      "version": "3.11.9"
    }
  },
  "nbformat": 4,
  "nbformat_minor": 0
}
